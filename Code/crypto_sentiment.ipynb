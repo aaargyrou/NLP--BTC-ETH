{
 "cells": [
  {
   "cell_type": "markdown",
   "metadata": {},
   "source": [
    "# Unit 12 - Tales from the Crypto\n",
    "\n",
    "---\n"
   ]
  },
  {
   "cell_type": "markdown",
   "metadata": {},
   "source": [
    "## 1. Sentiment Analysis\n",
    "\n",
    "Use the [newsapi](https://newsapi.org/) to pull the latest news articles for Bitcoin and Ethereum and create a DataFrame of sentiment scores for each coin.\n",
    "\n",
    "Use descriptive statistics to answer the following questions:\n",
    "1. Which coin had the highest mean positive score?\n",
    "2. Which coin had the highest negative score?\n",
    "3. Which coin had the highest positive score?"
   ]
  },
  {
   "cell_type": "code",
   "execution_count": 13,
   "metadata": {},
   "outputs": [
    {
     "name": "stderr",
     "output_type": "stream",
     "text": [
      "[nltk_data] Downloading package vader_lexicon to\n",
      "[nltk_data]     /Users/AndrewArgyrou/nltk_data...\n",
      "[nltk_data]   Package vader_lexicon is already up-to-date!\n"
     ]
    }
   ],
   "source": [
    "# Initial imports\n",
    "import os\n",
    "import pandas as pd\n",
    "from dotenv import load_dotenv\n",
    "from newsapi import NewsApiClient\n",
    "import nltk as nltk\n",
    "nltk.download('vader_lexicon')\n",
    "from nltk.sentiment.vader import SentimentIntensityAnalyzer\n",
    "analyzer = SentimentIntensityAnalyzer()\n",
    "\n",
    "%matplotlib inline"
   ]
  },
  {
   "cell_type": "code",
   "execution_count": 14,
   "metadata": {},
   "outputs": [
    {
     "data": {
      "text/plain": [
       "str"
      ]
     },
     "execution_count": 14,
     "metadata": {},
     "output_type": "execute_result"
    }
   ],
   "source": [
    "# Read your api key environment variable\n",
    "load_dotenv()\n",
    "api_key = os.getenv(\"NEWS_API_KEY\")\n",
    "type(api_key)"
   ]
  },
  {
   "cell_type": "code",
   "execution_count": 15,
   "metadata": {},
   "outputs": [],
   "source": [
    "# Create a newsapi client\n",
    "newsapi = NewsApiClient(api_key=api_key)"
   ]
  },
  {
   "cell_type": "code",
   "execution_count": 44,
   "metadata": {},
   "outputs": [
    {
     "data": {
      "text/plain": [
       "2796"
      ]
     },
     "execution_count": 44,
     "metadata": {},
     "output_type": "execute_result"
    }
   ],
   "source": [
    "# Fetch the Bitcoin news articles\n",
    "bitcoin_news_en = newsapi.get_everything(\n",
    "    q=\"Bitcoin, BTC, btc, bitcoin\",\n",
    "    language=\"en\",\n",
    "    page_size=100,\n",
    "    sort_by=\"relevancy\",\n",
    ")\n",
    "\n",
    "# Show the total number of news\n",
    "bitcoin_news_en[\"totalResults\"]"
   ]
  },
  {
   "cell_type": "code",
   "execution_count": 45,
   "metadata": {},
   "outputs": [
    {
     "data": {
      "text/plain": [
       "1551"
      ]
     },
     "execution_count": 45,
     "metadata": {},
     "output_type": "execute_result"
    }
   ],
   "source": [
    "# Fetch the Ethereum news articles\n",
    "ethereum_news_en = newsapi.get_everything(\n",
    "    q=\"Ethereum, ETH, eth, ethereum\",\n",
    "    language=\"en\",\n",
    "    page_size=100,\n",
    "    sort_by=\"relevancy\",\n",
    ")\n",
    "\n",
    "# Show the total number of news\n",
    "ethereum_news_en[\"totalResults\"]"
   ]
  },
  {
   "cell_type": "code",
   "execution_count": 46,
   "metadata": {},
   "outputs": [
    {
     "data": {
      "text/html": [
       "<div>\n",
       "<style scoped>\n",
       "    .dataframe tbody tr th:only-of-type {\n",
       "        vertical-align: middle;\n",
       "    }\n",
       "\n",
       "    .dataframe tbody tr th {\n",
       "        vertical-align: top;\n",
       "    }\n",
       "\n",
       "    .dataframe thead th {\n",
       "        text-align: right;\n",
       "    }\n",
       "</style>\n",
       "<table border=\"1\" class=\"dataframe\">\n",
       "  <thead>\n",
       "    <tr style=\"text-align: right;\">\n",
       "      <th></th>\n",
       "      <th>Title Bitcoin</th>\n",
       "      <th>Text</th>\n",
       "      <th>Date</th>\n",
       "      <th>Compound</th>\n",
       "      <th>Negative</th>\n",
       "      <th>Neutral</th>\n",
       "      <th>Positive</th>\n",
       "    </tr>\n",
       "  </thead>\n",
       "  <tbody>\n",
       "    <tr>\n",
       "      <th>95</th>\n",
       "      <td>Bitcoin Stabilizes at $40K Support; Resistance...</td>\n",
       "      <td>the leader in news and information on cryptocu...</td>\n",
       "      <td>2022-04-12</td>\n",
       "      <td>0.1779</td>\n",
       "      <td>0.000</td>\n",
       "      <td>0.950</td>\n",
       "      <td>0.050</td>\n",
       "    </tr>\n",
       "    <tr>\n",
       "      <th>96</th>\n",
       "      <td>Bitcoin Neutral, Support at $37K and Resistanc...</td>\n",
       "      <td>bitcoin (btc) continued to bounce around the $...</td>\n",
       "      <td>2022-04-14</td>\n",
       "      <td>-0.3400</td>\n",
       "      <td>0.072</td>\n",
       "      <td>0.928</td>\n",
       "      <td>0.000</td>\n",
       "    </tr>\n",
       "    <tr>\n",
       "      <th>97</th>\n",
       "      <td>Bitcoin Holding Support With Higher Price Lows...</td>\n",
       "      <td>bitcoin (btc) has maintained support above $37...</td>\n",
       "      <td>2022-04-20</td>\n",
       "      <td>-0.1531</td>\n",
       "      <td>0.116</td>\n",
       "      <td>0.811</td>\n",
       "      <td>0.073</td>\n",
       "    </tr>\n",
       "    <tr>\n",
       "      <th>98</th>\n",
       "      <td>Market Wrap: Bitcoin Stabilizes as Bearish Sen...</td>\n",
       "      <td>cryptocurrencies were mixed on wednesday as bi...</td>\n",
       "      <td>2022-04-27</td>\n",
       "      <td>0.0000</td>\n",
       "      <td>0.000</td>\n",
       "      <td>1.000</td>\n",
       "      <td>0.000</td>\n",
       "    </tr>\n",
       "    <tr>\n",
       "      <th>99</th>\n",
       "      <td>Market Crash 2022: 2 Cryptocurrencies to Buy f...</td>\n",
       "      <td>financial markets are in a rough patch, as the...</td>\n",
       "      <td>2022-05-07</td>\n",
       "      <td>-0.4215</td>\n",
       "      <td>0.158</td>\n",
       "      <td>0.761</td>\n",
       "      <td>0.082</td>\n",
       "    </tr>\n",
       "  </tbody>\n",
       "</table>\n",
       "</div>"
      ],
      "text/plain": [
       "                                        Title Bitcoin  \\\n",
       "95  Bitcoin Stabilizes at $40K Support; Resistance...   \n",
       "96  Bitcoin Neutral, Support at $37K and Resistanc...   \n",
       "97  Bitcoin Holding Support With Higher Price Lows...   \n",
       "98  Market Wrap: Bitcoin Stabilizes as Bearish Sen...   \n",
       "99  Market Crash 2022: 2 Cryptocurrencies to Buy f...   \n",
       "\n",
       "                                                 Text        Date  Compound  \\\n",
       "95  the leader in news and information on cryptocu...  2022-04-12    0.1779   \n",
       "96  bitcoin (btc) continued to bounce around the $...  2022-04-14   -0.3400   \n",
       "97  bitcoin (btc) has maintained support above $37...  2022-04-20   -0.1531   \n",
       "98  cryptocurrencies were mixed on wednesday as bi...  2022-04-27    0.0000   \n",
       "99  financial markets are in a rough patch, as the...  2022-05-07   -0.4215   \n",
       "\n",
       "    Negative  Neutral  Positive  \n",
       "95     0.000    0.950     0.050  \n",
       "96     0.072    0.928     0.000  \n",
       "97     0.116    0.811     0.073  \n",
       "98     0.000    1.000     0.000  \n",
       "99     0.158    0.761     0.082  "
      ]
     },
     "execution_count": 46,
     "metadata": {},
     "output_type": "execute_result"
    }
   ],
   "source": [
    "# Create the Bitcoin sentiment scores DataFrame\n",
    "bitcoin_sentiments = []\n",
    "\n",
    "for article in bitcoin_news_en[\"articles\"]:\n",
    "    try:\n",
    "        text = article[\"content\"].lower()\n",
    "        title = article[\"title\"]\n",
    "        date = article[\"publishedAt\"][:10]\n",
    "        sentiment = analyzer.polarity_scores(text)\n",
    "        compound = sentiment[\"compound\"]\n",
    "        pos = sentiment[\"pos\"]\n",
    "        neu = sentiment[\"neu\"]\n",
    "        neg = sentiment[\"neg\"]\n",
    "        \n",
    "        bitcoin_sentiments.append({\"Text\": text, \"Date\": date, \"Compound\": compound, \"Positive\": pos, \"Negative\": neg, \"Neutral\": neu, \"Title Bitcoin\": title})\n",
    "        \n",
    "    except AttributeError:\n",
    "        pass\n",
    "    \n",
    "# Create DataFrame\n",
    "bitcoin_df = pd.DataFrame(bitcoin_sentiments)\n",
    "\n",
    "# Reorder DataFrame columns\n",
    "cols = [\"Title Bitcoin\",\"Text\",\"Date\",\"Compound\",\"Negative\",\"Neutral\",\"Positive\",]\n",
    "bitcoin_df = bitcoin_df[cols]\n",
    "#bitcoin_df.sort_values(by='Negative',ascending=False,inplace=True)\n",
    "bitcoin_df.tail()"
   ]
  },
  {
   "cell_type": "code",
   "execution_count": 47,
   "metadata": {},
   "outputs": [
    {
     "data": {
      "text/html": [
       "<div>\n",
       "<style scoped>\n",
       "    .dataframe tbody tr th:only-of-type {\n",
       "        vertical-align: middle;\n",
       "    }\n",
       "\n",
       "    .dataframe tbody tr th {\n",
       "        vertical-align: top;\n",
       "    }\n",
       "\n",
       "    .dataframe thead th {\n",
       "        text-align: right;\n",
       "    }\n",
       "</style>\n",
       "<table border=\"1\" class=\"dataframe\">\n",
       "  <thead>\n",
       "    <tr style=\"text-align: right;\">\n",
       "      <th></th>\n",
       "      <th>Title Bitcoin</th>\n",
       "      <th>Text</th>\n",
       "      <th>Date</th>\n",
       "      <th>Compound</th>\n",
       "      <th>Negative</th>\n",
       "      <th>Neutral</th>\n",
       "      <th>Positive</th>\n",
       "    </tr>\n",
       "  </thead>\n",
       "  <tbody>\n",
       "    <tr>\n",
       "      <th>95</th>\n",
       "      <td>Market Roundup: $APE Surges in a Bummer of a M...</td>\n",
       "      <td>april hasnt been kind to crypto. but there is ...</td>\n",
       "      <td>2022-04-28</td>\n",
       "      <td>0.0803</td>\n",
       "      <td>0.107</td>\n",
       "      <td>0.802</td>\n",
       "      <td>0.091</td>\n",
       "    </tr>\n",
       "    <tr>\n",
       "      <th>96</th>\n",
       "      <td>BAYC Team Raises $285M With Otherside NFTs, Cl...</td>\n",
       "      <td>after muchado, yuga labs held its long-awaited...</td>\n",
       "      <td>2022-05-01</td>\n",
       "      <td>0.0000</td>\n",
       "      <td>0.000</td>\n",
       "      <td>1.000</td>\n",
       "      <td>0.000</td>\n",
       "    </tr>\n",
       "    <tr>\n",
       "      <th>97</th>\n",
       "      <td>Nvidia Stock Falls on an Analyst Downgrade -- ...</td>\n",
       "      <td>share prices of nvidia ( nvda -1.88% ) have be...</td>\n",
       "      <td>2022-04-13</td>\n",
       "      <td>-0.1531</td>\n",
       "      <td>0.106</td>\n",
       "      <td>0.833</td>\n",
       "      <td>0.061</td>\n",
       "    </tr>\n",
       "    <tr>\n",
       "      <th>98</th>\n",
       "      <td>Treasury Sanctions More North Korea-Linked ETH...</td>\n",
       "      <td>u.s. government officials are throwing a wider...</td>\n",
       "      <td>2022-04-22</td>\n",
       "      <td>0.5106</td>\n",
       "      <td>0.000</td>\n",
       "      <td>0.867</td>\n",
       "      <td>0.133</td>\n",
       "    </tr>\n",
       "    <tr>\n",
       "      <th>99</th>\n",
       "      <td>Descending channel pattern and weak futures da...</td>\n",
       "      <td>despite bouncing from a 45-day low on april 30...</td>\n",
       "      <td>2022-05-05</td>\n",
       "      <td>0.0772</td>\n",
       "      <td>0.096</td>\n",
       "      <td>0.824</td>\n",
       "      <td>0.080</td>\n",
       "    </tr>\n",
       "  </tbody>\n",
       "</table>\n",
       "</div>"
      ],
      "text/plain": [
       "                                        Title Bitcoin  \\\n",
       "95  Market Roundup: $APE Surges in a Bummer of a M...   \n",
       "96  BAYC Team Raises $285M With Otherside NFTs, Cl...   \n",
       "97  Nvidia Stock Falls on an Analyst Downgrade -- ...   \n",
       "98  Treasury Sanctions More North Korea-Linked ETH...   \n",
       "99  Descending channel pattern and weak futures da...   \n",
       "\n",
       "                                                 Text        Date  Compound  \\\n",
       "95  april hasnt been kind to crypto. but there is ...  2022-04-28    0.0803   \n",
       "96  after muchado, yuga labs held its long-awaited...  2022-05-01    0.0000   \n",
       "97  share prices of nvidia ( nvda -1.88% ) have be...  2022-04-13   -0.1531   \n",
       "98  u.s. government officials are throwing a wider...  2022-04-22    0.5106   \n",
       "99  despite bouncing from a 45-day low on april 30...  2022-05-05    0.0772   \n",
       "\n",
       "    Negative  Neutral  Positive  \n",
       "95     0.107    0.802     0.091  \n",
       "96     0.000    1.000     0.000  \n",
       "97     0.106    0.833     0.061  \n",
       "98     0.000    0.867     0.133  \n",
       "99     0.096    0.824     0.080  "
      ]
     },
     "execution_count": 47,
     "metadata": {},
     "output_type": "execute_result"
    }
   ],
   "source": [
    "# Create the Ethereum sentiment scores DataFrame\n",
    "ethereum_sentiments = []\n",
    "\n",
    "for article in ethereum_news_en[\"articles\"]:\n",
    "    try:\n",
    "        text = article[\"content\"].lower()\n",
    "        title = article[\"title\"]\n",
    "        date = article[\"publishedAt\"][:10]\n",
    "        sentiment = analyzer.polarity_scores(text)\n",
    "        compound = sentiment[\"compound\"]\n",
    "        pos = sentiment[\"pos\"]\n",
    "        neu = sentiment[\"neu\"]\n",
    "        neg = sentiment[\"neg\"]\n",
    "        \n",
    "        ethereum_sentiments.append({\"Text\": text, \"Date\": date, \"Compound\": compound, \"Positive\": pos, \"Negative\": neg, \"Neutral\": neu, \"Title Bitcoin\": title})\n",
    "        \n",
    "    except AttributeError:\n",
    "        pass\n",
    "    \n",
    "# Create DataFrame\n",
    "ethereum_df = pd.DataFrame(ethereum_sentiments)\n",
    "\n",
    "# Reorder DataFrame columns\n",
    "cols = [\"Title Bitcoin\",\"Text\",\"Date\",\"Compound\",\"Negative\",\"Neutral\",\"Positive\",]\n",
    "ethereum_df = ethereum_df[cols]\n",
    "#ethereum_df.sort_values(by='Negative',ascending=False,inplace=True)\n",
    "ethereum_df.tail()"
   ]
  },
  {
   "cell_type": "code",
   "execution_count": 48,
   "metadata": {},
   "outputs": [
    {
     "data": {
      "text/html": [
       "<div>\n",
       "<style scoped>\n",
       "    .dataframe tbody tr th:only-of-type {\n",
       "        vertical-align: middle;\n",
       "    }\n",
       "\n",
       "    .dataframe tbody tr th {\n",
       "        vertical-align: top;\n",
       "    }\n",
       "\n",
       "    .dataframe thead th {\n",
       "        text-align: right;\n",
       "    }\n",
       "</style>\n",
       "<table border=\"1\" class=\"dataframe\">\n",
       "  <thead>\n",
       "    <tr style=\"text-align: right;\">\n",
       "      <th></th>\n",
       "      <th>Compound</th>\n",
       "      <th>Negative</th>\n",
       "      <th>Neutral</th>\n",
       "      <th>Positive</th>\n",
       "    </tr>\n",
       "  </thead>\n",
       "  <tbody>\n",
       "    <tr>\n",
       "      <th>count</th>\n",
       "      <td>100.000000</td>\n",
       "      <td>100.000000</td>\n",
       "      <td>100.000000</td>\n",
       "      <td>100.000000</td>\n",
       "    </tr>\n",
       "    <tr>\n",
       "      <th>mean</th>\n",
       "      <td>0.074542</td>\n",
       "      <td>0.043270</td>\n",
       "      <td>0.894540</td>\n",
       "      <td>0.062200</td>\n",
       "    </tr>\n",
       "    <tr>\n",
       "      <th>std</th>\n",
       "      <td>0.365947</td>\n",
       "      <td>0.057708</td>\n",
       "      <td>0.079298</td>\n",
       "      <td>0.055902</td>\n",
       "    </tr>\n",
       "    <tr>\n",
       "      <th>min</th>\n",
       "      <td>-0.743000</td>\n",
       "      <td>0.000000</td>\n",
       "      <td>0.608000</td>\n",
       "      <td>0.000000</td>\n",
       "    </tr>\n",
       "    <tr>\n",
       "      <th>25%</th>\n",
       "      <td>-0.157050</td>\n",
       "      <td>0.000000</td>\n",
       "      <td>0.845000</td>\n",
       "      <td>0.000000</td>\n",
       "    </tr>\n",
       "    <tr>\n",
       "      <th>50%</th>\n",
       "      <td>0.128000</td>\n",
       "      <td>0.000000</td>\n",
       "      <td>0.908000</td>\n",
       "      <td>0.062000</td>\n",
       "    </tr>\n",
       "    <tr>\n",
       "      <th>75%</th>\n",
       "      <td>0.296000</td>\n",
       "      <td>0.068000</td>\n",
       "      <td>0.950000</td>\n",
       "      <td>0.084250</td>\n",
       "    </tr>\n",
       "    <tr>\n",
       "      <th>max</th>\n",
       "      <td>0.838700</td>\n",
       "      <td>0.224000</td>\n",
       "      <td>1.000000</td>\n",
       "      <td>0.240000</td>\n",
       "    </tr>\n",
       "  </tbody>\n",
       "</table>\n",
       "</div>"
      ],
      "text/plain": [
       "         Compound    Negative     Neutral    Positive\n",
       "count  100.000000  100.000000  100.000000  100.000000\n",
       "mean     0.074542    0.043270    0.894540    0.062200\n",
       "std      0.365947    0.057708    0.079298    0.055902\n",
       "min     -0.743000    0.000000    0.608000    0.000000\n",
       "25%     -0.157050    0.000000    0.845000    0.000000\n",
       "50%      0.128000    0.000000    0.908000    0.062000\n",
       "75%      0.296000    0.068000    0.950000    0.084250\n",
       "max      0.838700    0.224000    1.000000    0.240000"
      ]
     },
     "execution_count": 48,
     "metadata": {},
     "output_type": "execute_result"
    }
   ],
   "source": [
    "# Describe the Bitcoin Sentiment\n",
    "bitcoin_df.describe()"
   ]
  },
  {
   "cell_type": "code",
   "execution_count": 49,
   "metadata": {},
   "outputs": [
    {
     "data": {
      "text/html": [
       "<div>\n",
       "<style scoped>\n",
       "    .dataframe tbody tr th:only-of-type {\n",
       "        vertical-align: middle;\n",
       "    }\n",
       "\n",
       "    .dataframe tbody tr th {\n",
       "        vertical-align: top;\n",
       "    }\n",
       "\n",
       "    .dataframe thead th {\n",
       "        text-align: right;\n",
       "    }\n",
       "</style>\n",
       "<table border=\"1\" class=\"dataframe\">\n",
       "  <thead>\n",
       "    <tr style=\"text-align: right;\">\n",
       "      <th></th>\n",
       "      <th>Compound</th>\n",
       "      <th>Negative</th>\n",
       "      <th>Neutral</th>\n",
       "      <th>Positive</th>\n",
       "    </tr>\n",
       "  </thead>\n",
       "  <tbody>\n",
       "    <tr>\n",
       "      <th>count</th>\n",
       "      <td>100.000000</td>\n",
       "      <td>100.000000</td>\n",
       "      <td>100.00000</td>\n",
       "      <td>100.000000</td>\n",
       "    </tr>\n",
       "    <tr>\n",
       "      <th>mean</th>\n",
       "      <td>0.189138</td>\n",
       "      <td>0.034970</td>\n",
       "      <td>0.88435</td>\n",
       "      <td>0.080700</td>\n",
       "    </tr>\n",
       "    <tr>\n",
       "      <th>std</th>\n",
       "      <td>0.393673</td>\n",
       "      <td>0.050533</td>\n",
       "      <td>0.08209</td>\n",
       "      <td>0.071051</td>\n",
       "    </tr>\n",
       "    <tr>\n",
       "      <th>min</th>\n",
       "      <td>-0.784500</td>\n",
       "      <td>0.000000</td>\n",
       "      <td>0.63500</td>\n",
       "      <td>0.000000</td>\n",
       "    </tr>\n",
       "    <tr>\n",
       "      <th>25%</th>\n",
       "      <td>0.000000</td>\n",
       "      <td>0.000000</td>\n",
       "      <td>0.83300</td>\n",
       "      <td>0.000000</td>\n",
       "    </tr>\n",
       "    <tr>\n",
       "      <th>50%</th>\n",
       "      <td>0.202300</td>\n",
       "      <td>0.000000</td>\n",
       "      <td>0.89050</td>\n",
       "      <td>0.073000</td>\n",
       "    </tr>\n",
       "    <tr>\n",
       "      <th>75%</th>\n",
       "      <td>0.488875</td>\n",
       "      <td>0.058250</td>\n",
       "      <td>0.94350</td>\n",
       "      <td>0.122500</td>\n",
       "    </tr>\n",
       "    <tr>\n",
       "      <th>max</th>\n",
       "      <td>0.893400</td>\n",
       "      <td>0.231000</td>\n",
       "      <td>1.00000</td>\n",
       "      <td>0.332000</td>\n",
       "    </tr>\n",
       "  </tbody>\n",
       "</table>\n",
       "</div>"
      ],
      "text/plain": [
       "         Compound    Negative    Neutral    Positive\n",
       "count  100.000000  100.000000  100.00000  100.000000\n",
       "mean     0.189138    0.034970    0.88435    0.080700\n",
       "std      0.393673    0.050533    0.08209    0.071051\n",
       "min     -0.784500    0.000000    0.63500    0.000000\n",
       "25%      0.000000    0.000000    0.83300    0.000000\n",
       "50%      0.202300    0.000000    0.89050    0.073000\n",
       "75%      0.488875    0.058250    0.94350    0.122500\n",
       "max      0.893400    0.231000    1.00000    0.332000"
      ]
     },
     "execution_count": 49,
     "metadata": {},
     "output_type": "execute_result"
    }
   ],
   "source": [
    "# Describe the Ethereum Sentiment\n",
    "ethereum_df.describe()"
   ]
  },
  {
   "cell_type": "markdown",
   "metadata": {},
   "source": [
    "### Questions:\n",
    "\n",
    "**Q: Which coin had the highest mean positive score?**\n",
    "\n",
    "A: Ethereum had the highest positive mean score of 0.081 compared to Bitcoin's 0.062.\n",
    "\n",
    "**Q: Which coin had the highest compound score?**\n",
    "\n",
    "A: Ethereum had the highest compound max score of 0.89 compared to Bitcoin's 0.84. Additionally, Ethereum had a higher mean compound score of 0.19 compared to Bitcoin's 0.07\n",
    "\n",
    "**Q. Which coin had the highest positive score?**\n",
    "\n",
    "A: Ethereum had a higher max positive score of 0.033 compared to Bitcoin's 0.24."
   ]
  },
  {
   "cell_type": "markdown",
   "metadata": {},
   "source": [
    "---"
   ]
  },
  {
   "cell_type": "markdown",
   "metadata": {},
   "source": [
    "## 2. Natural Language Processing\n",
    "---\n",
    "###   Tokenizer\n",
    "\n",
    "In this section, you will use NLTK and Python to tokenize the text for each coin. Be sure to:\n",
    "1. Lowercase each word.\n",
    "2. Remove Punctuation.\n",
    "3. Remove Stopwords."
   ]
  },
  {
   "cell_type": "code",
   "execution_count": 50,
   "metadata": {},
   "outputs": [],
   "source": [
    "from nltk.tokenize import word_tokenize, sent_tokenize\n",
    "from nltk.corpus import stopwords\n",
    "from nltk.stem import WordNetLemmatizer, PorterStemmer\n",
    "from string import punctuation\n",
    "import re"
   ]
  },
  {
   "cell_type": "code",
   "execution_count": 51,
   "metadata": {},
   "outputs": [],
   "source": [
    "# Instantiate the lemmatizer\n",
    "lemmatizer = WordNetLemmatizer()\n",
    "\n",
    "# Create a list of stopwords\n",
    "sw = set(stopwords.words('english'))\n",
    "\n",
    "# Expand the default stopwords list if necessary\n",
    "# YOUR CODE HERE!"
   ]
  },
  {
   "cell_type": "code",
   "execution_count": 54,
   "metadata": {},
   "outputs": [],
   "source": [
    "# Complete the tokenizer function\n",
    "# Complete the tokenizer function\n",
    "def tokenizer(text):\n",
    "    \"\"\"Tokenizes text.\"\"\"\n",
    "    # Remove the stop words\n",
    "    sw = set(stopwords.words('english'))\n",
    "    \n",
    "    # Remove the punctuation from text\n",
    "    regex = re.compile(\"[^a-zA-Z ]\")\n",
    "    re_clean = regex.sub('', text)\n",
    "\n",
    "    # Create a tokenized list of the words\n",
    "    words = word_tokenize(re_clean)\n",
    "    \n",
    "    # Lemmatize words into root words\n",
    "    lem = [lemmatizer.lemmatize(word) for word in words]\n",
    "\n",
    "\n",
    "    # Convert the words to lowercase\n",
    "    tokens = [word.lower() for word in words if word.lower() not in sw]\n",
    "    \n",
    "    \n",
    "    return tokens"
   ]
  },
  {
   "cell_type": "code",
   "execution_count": 55,
   "metadata": {},
   "outputs": [
    {
     "data": {
      "text/html": [
       "<div>\n",
       "<style scoped>\n",
       "    .dataframe tbody tr th:only-of-type {\n",
       "        vertical-align: middle;\n",
       "    }\n",
       "\n",
       "    .dataframe tbody tr th {\n",
       "        vertical-align: top;\n",
       "    }\n",
       "\n",
       "    .dataframe thead th {\n",
       "        text-align: right;\n",
       "    }\n",
       "</style>\n",
       "<table border=\"1\" class=\"dataframe\">\n",
       "  <thead>\n",
       "    <tr style=\"text-align: right;\">\n",
       "      <th></th>\n",
       "      <th>Title Bitcoin</th>\n",
       "      <th>Text</th>\n",
       "      <th>Date</th>\n",
       "      <th>Compound</th>\n",
       "      <th>Negative</th>\n",
       "      <th>Neutral</th>\n",
       "      <th>Positive</th>\n",
       "      <th>Tokens</th>\n",
       "    </tr>\n",
       "  </thead>\n",
       "  <tbody>\n",
       "    <tr>\n",
       "      <th>0</th>\n",
       "      <td>Miami’s Bitcoin Conference Left a Trail of Har...</td>\n",
       "      <td>now, even though there are a number of women-f...</td>\n",
       "      <td>2022-05-10</td>\n",
       "      <td>0.0772</td>\n",
       "      <td>0.000</td>\n",
       "      <td>0.964</td>\n",
       "      <td>0.036</td>\n",
       "      <td>[even, though, number, womenfocused, crypto, s...</td>\n",
       "    </tr>\n",
       "    <tr>\n",
       "      <th>1</th>\n",
       "      <td>Bitcoin, Ethereum Technical Analysis: BTC Slip...</td>\n",
       "      <td>btc fell to its lowest level since last july, ...</td>\n",
       "      <td>2022-05-09</td>\n",
       "      <td>0.1027</td>\n",
       "      <td>0.066</td>\n",
       "      <td>0.859</td>\n",
       "      <td>0.076</td>\n",
       "      <td>[btc, fell, lowest, level, since, last, july, ...</td>\n",
       "    </tr>\n",
       "    <tr>\n",
       "      <th>2</th>\n",
       "      <td>3 Reddit Stocks That Could Roar in Q2</td>\n",
       "      <td>&lt;ul&gt;&lt;li&gt;elon musk will be able to focus on tes...</td>\n",
       "      <td>2022-04-19</td>\n",
       "      <td>0.4404</td>\n",
       "      <td>0.000</td>\n",
       "      <td>0.921</td>\n",
       "      <td>0.079</td>\n",
       "      <td>[ullielon, musk, able, focus, onteslatsla, pro...</td>\n",
       "    </tr>\n",
       "    <tr>\n",
       "      <th>3</th>\n",
       "      <td>Protecting Retirement Savings from Volatile Cr...</td>\n",
       "      <td>did you hear? you may be able to allocate some...</td>\n",
       "      <td>2022-05-09</td>\n",
       "      <td>0.1280</td>\n",
       "      <td>0.000</td>\n",
       "      <td>0.955</td>\n",
       "      <td>0.045</td>\n",
       "      <td>[hear, may, able, allocate, k, retirement, sav...</td>\n",
       "    </tr>\n",
       "    <tr>\n",
       "      <th>4</th>\n",
       "      <td>10 things before the opening bell</td>\n",
       "      <td>good morning. the combo of hawkish fed policy ...</td>\n",
       "      <td>2022-05-03</td>\n",
       "      <td>0.2732</td>\n",
       "      <td>0.118</td>\n",
       "      <td>0.713</td>\n",
       "      <td>0.170</td>\n",
       "      <td>[good, morning, combo, hawkish, fed, policy, h...</td>\n",
       "    </tr>\n",
       "  </tbody>\n",
       "</table>\n",
       "</div>"
      ],
      "text/plain": [
       "                                       Title Bitcoin  \\\n",
       "0  Miami’s Bitcoin Conference Left a Trail of Har...   \n",
       "1  Bitcoin, Ethereum Technical Analysis: BTC Slip...   \n",
       "2              3 Reddit Stocks That Could Roar in Q2   \n",
       "3  Protecting Retirement Savings from Volatile Cr...   \n",
       "4                  10 things before the opening bell   \n",
       "\n",
       "                                                Text        Date  Compound  \\\n",
       "0  now, even though there are a number of women-f...  2022-05-10    0.0772   \n",
       "1  btc fell to its lowest level since last july, ...  2022-05-09    0.1027   \n",
       "2  <ul><li>elon musk will be able to focus on tes...  2022-04-19    0.4404   \n",
       "3  did you hear? you may be able to allocate some...  2022-05-09    0.1280   \n",
       "4  good morning. the combo of hawkish fed policy ...  2022-05-03    0.2732   \n",
       "\n",
       "   Negative  Neutral  Positive  \\\n",
       "0     0.000    0.964     0.036   \n",
       "1     0.066    0.859     0.076   \n",
       "2     0.000    0.921     0.079   \n",
       "3     0.000    0.955     0.045   \n",
       "4     0.118    0.713     0.170   \n",
       "\n",
       "                                              Tokens  \n",
       "0  [even, though, number, womenfocused, crypto, s...  \n",
       "1  [btc, fell, lowest, level, since, last, july, ...  \n",
       "2  [ullielon, musk, able, focus, onteslatsla, pro...  \n",
       "3  [hear, may, able, allocate, k, retirement, sav...  \n",
       "4  [good, morning, combo, hawkish, fed, policy, h...  "
      ]
     },
     "execution_count": 55,
     "metadata": {},
     "output_type": "execute_result"
    }
   ],
   "source": [
    "# Create a new tokens column for Bitcoin\n",
    "bitcoin_df[\"Tokens\"] = bitcoin_df[\"Text\"].apply(tokenizer)\n",
    "bitcoin_df.head()"
   ]
  },
  {
   "cell_type": "code",
   "execution_count": 57,
   "metadata": {},
   "outputs": [
    {
     "data": {
      "text/html": [
       "<div>\n",
       "<style scoped>\n",
       "    .dataframe tbody tr th:only-of-type {\n",
       "        vertical-align: middle;\n",
       "    }\n",
       "\n",
       "    .dataframe tbody tr th {\n",
       "        vertical-align: top;\n",
       "    }\n",
       "\n",
       "    .dataframe thead th {\n",
       "        text-align: right;\n",
       "    }\n",
       "</style>\n",
       "<table border=\"1\" class=\"dataframe\">\n",
       "  <thead>\n",
       "    <tr style=\"text-align: right;\">\n",
       "      <th></th>\n",
       "      <th>Title Bitcoin</th>\n",
       "      <th>Text</th>\n",
       "      <th>Date</th>\n",
       "      <th>Compound</th>\n",
       "      <th>Negative</th>\n",
       "      <th>Neutral</th>\n",
       "      <th>Positive</th>\n",
       "      <th>Tokens</th>\n",
       "    </tr>\n",
       "  </thead>\n",
       "  <tbody>\n",
       "    <tr>\n",
       "      <th>0</th>\n",
       "      <td>US blames North Korean hacker group for $625 m...</td>\n",
       "      <td>the us department of treasury says lazarus is ...</td>\n",
       "      <td>2022-04-14</td>\n",
       "      <td>-0.7845</td>\n",
       "      <td>0.231</td>\n",
       "      <td>0.681</td>\n",
       "      <td>0.088</td>\n",
       "      <td>[us, department, treasury, says, lazarus, behi...</td>\n",
       "    </tr>\n",
       "    <tr>\n",
       "      <th>1</th>\n",
       "      <td>Bitcoin, Ethereum Technical Analysis: BTC Slip...</td>\n",
       "      <td>btc fell to its lowest level since last july, ...</td>\n",
       "      <td>2022-05-09</td>\n",
       "      <td>0.1027</td>\n",
       "      <td>0.066</td>\n",
       "      <td>0.859</td>\n",
       "      <td>0.076</td>\n",
       "      <td>[btc, fell, lowest, level, since, last, july, ...</td>\n",
       "    </tr>\n",
       "    <tr>\n",
       "      <th>2</th>\n",
       "      <td>Yuga Labs apologises after sale of virtual lan...</td>\n",
       "      <td>a multi-billion dollar cryptocurrency company ...</td>\n",
       "      <td>2022-05-02</td>\n",
       "      <td>-0.2263</td>\n",
       "      <td>0.075</td>\n",
       "      <td>0.879</td>\n",
       "      <td>0.046</td>\n",
       "      <td>[multibillion, dollar, cryptocurrency, company...</td>\n",
       "    </tr>\n",
       "    <tr>\n",
       "      <th>3</th>\n",
       "      <td>How Bored Ape Yacht Club Broke Ethereum - CNET</td>\n",
       "      <td>when bored ape yacht club creators yuga labs a...</td>\n",
       "      <td>2022-05-04</td>\n",
       "      <td>-0.2732</td>\n",
       "      <td>0.055</td>\n",
       "      <td>0.945</td>\n",
       "      <td>0.000</td>\n",
       "      <td>[bored, ape, yacht, club, creators, yuga, labs...</td>\n",
       "    </tr>\n",
       "    <tr>\n",
       "      <th>4</th>\n",
       "      <td>How the BAYC metaverse mint raised Ethereum ga...</td>\n",
       "      <td>if you ever wanted to buy an nft based on ethe...</td>\n",
       "      <td>2022-05-02</td>\n",
       "      <td>-0.1027</td>\n",
       "      <td>0.036</td>\n",
       "      <td>0.964</td>\n",
       "      <td>0.000</td>\n",
       "      <td>[ever, wanted, buy, nft, based, ethereum, woul...</td>\n",
       "    </tr>\n",
       "  </tbody>\n",
       "</table>\n",
       "</div>"
      ],
      "text/plain": [
       "                                       Title Bitcoin  \\\n",
       "0  US blames North Korean hacker group for $625 m...   \n",
       "1  Bitcoin, Ethereum Technical Analysis: BTC Slip...   \n",
       "2  Yuga Labs apologises after sale of virtual lan...   \n",
       "3     How Bored Ape Yacht Club Broke Ethereum - CNET   \n",
       "4  How the BAYC metaverse mint raised Ethereum ga...   \n",
       "\n",
       "                                                Text        Date  Compound  \\\n",
       "0  the us department of treasury says lazarus is ...  2022-04-14   -0.7845   \n",
       "1  btc fell to its lowest level since last july, ...  2022-05-09    0.1027   \n",
       "2  a multi-billion dollar cryptocurrency company ...  2022-05-02   -0.2263   \n",
       "3  when bored ape yacht club creators yuga labs a...  2022-05-04   -0.2732   \n",
       "4  if you ever wanted to buy an nft based on ethe...  2022-05-02   -0.1027   \n",
       "\n",
       "   Negative  Neutral  Positive  \\\n",
       "0     0.231    0.681     0.088   \n",
       "1     0.066    0.859     0.076   \n",
       "2     0.075    0.879     0.046   \n",
       "3     0.055    0.945     0.000   \n",
       "4     0.036    0.964     0.000   \n",
       "\n",
       "                                              Tokens  \n",
       "0  [us, department, treasury, says, lazarus, behi...  \n",
       "1  [btc, fell, lowest, level, since, last, july, ...  \n",
       "2  [multibillion, dollar, cryptocurrency, company...  \n",
       "3  [bored, ape, yacht, club, creators, yuga, labs...  \n",
       "4  [ever, wanted, buy, nft, based, ethereum, woul...  "
      ]
     },
     "execution_count": 57,
     "metadata": {},
     "output_type": "execute_result"
    }
   ],
   "source": [
    "# Create a new tokens column for Ethereum\n",
    "ethereum_df[\"Tokens\"] = ethereum_df[\"Text\"].apply(tokenizer)\n",
    "ethereum_df.head()"
   ]
  },
  {
   "cell_type": "markdown",
   "metadata": {},
   "source": [
    "---"
   ]
  },
  {
   "cell_type": "markdown",
   "metadata": {},
   "source": [
    "### NGrams and Frequency Analysis\n",
    "\n",
    "In this section you will look at the ngrams and word frequency for each coin. \n",
    "\n",
    "1. Use NLTK to produce the n-grams for N = 2. \n",
    "2. List the top 10 words for each coin. "
   ]
  },
  {
   "cell_type": "code",
   "execution_count": 58,
   "metadata": {},
   "outputs": [],
   "source": [
    "from collections import Counter\n",
    "from nltk import ngrams"
   ]
  },
  {
   "cell_type": "code",
   "execution_count": null,
   "metadata": {},
   "outputs": [],
   "source": [
    "# Generate the Bitcoin N-grams where N=2\n",
    "# YOUR CODE HERE!"
   ]
  },
  {
   "cell_type": "code",
   "execution_count": null,
   "metadata": {},
   "outputs": [],
   "source": [
    "# Generate the Ethereum N-grams where N=2\n",
    "# YOUR CODE HERE!"
   ]
  },
  {
   "cell_type": "code",
   "execution_count": null,
   "metadata": {},
   "outputs": [],
   "source": [
    "# Function token_count generates the top 10 words for a given coin\n",
    "def token_count(tokens, N=3):\n",
    "    \"\"\"Returns the top N tokens from the frequency count\"\"\"\n",
    "    return Counter(tokens).most_common(N)"
   ]
  },
  {
   "cell_type": "code",
   "execution_count": null,
   "metadata": {},
   "outputs": [],
   "source": [
    "# Use token_count to get the top 10 words for Bitcoin\n",
    "# YOUR CODE HERE!"
   ]
  },
  {
   "cell_type": "code",
   "execution_count": null,
   "metadata": {},
   "outputs": [],
   "source": [
    "# Use token_count to get the top 10 words for Ethereum\n",
    "# YOUR CODE HERE!"
   ]
  },
  {
   "cell_type": "markdown",
   "metadata": {},
   "source": [
    "---"
   ]
  },
  {
   "cell_type": "markdown",
   "metadata": {},
   "source": [
    "### Word Clouds\n",
    "\n",
    "In this section, you will generate word clouds for each coin to summarize the news for each coin"
   ]
  },
  {
   "cell_type": "code",
   "execution_count": null,
   "metadata": {},
   "outputs": [],
   "source": [
    "from wordcloud import WordCloud\n",
    "import matplotlib.pyplot as plt\n",
    "plt.style.use('seaborn-whitegrid')\n",
    "import matplotlib as mpl\n",
    "mpl.rcParams['figure.figsize'] = [20.0, 10.0]"
   ]
  },
  {
   "cell_type": "code",
   "execution_count": null,
   "metadata": {},
   "outputs": [],
   "source": [
    "# Generate the Bitcoin word cloud\n",
    "# YOUR CODE HERE!"
   ]
  },
  {
   "cell_type": "code",
   "execution_count": null,
   "metadata": {},
   "outputs": [],
   "source": [
    "# Generate the Ethereum word cloud\n",
    "# YOUR CODE HERE!"
   ]
  },
  {
   "cell_type": "markdown",
   "metadata": {},
   "source": [
    "---\n",
    "## 3. Named Entity Recognition\n",
    "\n",
    "In this section, you will build a named entity recognition model for both Bitcoin and Ethereum, then visualize the tags using SpaCy."
   ]
  },
  {
   "cell_type": "code",
   "execution_count": null,
   "metadata": {},
   "outputs": [],
   "source": [
    "import spacy\n",
    "from spacy import displacy"
   ]
  },
  {
   "cell_type": "code",
   "execution_count": null,
   "metadata": {},
   "outputs": [],
   "source": [
    "# Download the language model for SpaCy\n",
    "# !python -m spacy download en_core_web_sm"
   ]
  },
  {
   "cell_type": "code",
   "execution_count": null,
   "metadata": {},
   "outputs": [],
   "source": [
    "# Load the spaCy model\n",
    "nlp = spacy.load('en_core_web_sm')"
   ]
  },
  {
   "cell_type": "markdown",
   "metadata": {},
   "source": [
    "---\n",
    "### Bitcoin NER"
   ]
  },
  {
   "cell_type": "code",
   "execution_count": null,
   "metadata": {},
   "outputs": [],
   "source": [
    "# Concatenate all of the Bitcoin text together\n",
    "# YOUR CODE HERE!"
   ]
  },
  {
   "cell_type": "code",
   "execution_count": null,
   "metadata": {},
   "outputs": [],
   "source": [
    "# Run the NER processor on all of the text\n",
    "# YOUR CODE HERE!\n",
    "\n",
    "# Add a title to the document\n",
    "# YOUR CODE HERE!"
   ]
  },
  {
   "cell_type": "code",
   "execution_count": null,
   "metadata": {},
   "outputs": [],
   "source": [
    "# Render the visualization\n",
    "# YOUR CODE HERE!"
   ]
  },
  {
   "cell_type": "code",
   "execution_count": null,
   "metadata": {},
   "outputs": [],
   "source": [
    "# List all Entities\n",
    "# YOUR CODE HERE!"
   ]
  },
  {
   "cell_type": "markdown",
   "metadata": {},
   "source": [
    "---"
   ]
  },
  {
   "cell_type": "markdown",
   "metadata": {},
   "source": [
    "### Ethereum NER"
   ]
  },
  {
   "cell_type": "code",
   "execution_count": null,
   "metadata": {},
   "outputs": [],
   "source": [
    "# Concatenate all of the Ethereum text together\n",
    "# YOUR CODE HERE!"
   ]
  },
  {
   "cell_type": "code",
   "execution_count": null,
   "metadata": {},
   "outputs": [],
   "source": [
    "# Run the NER processor on all of the text\n",
    "# YOUR CODE HERE!\n",
    "\n",
    "# Add a title to the document\n",
    "# YOUR CODE HERE!"
   ]
  },
  {
   "cell_type": "code",
   "execution_count": null,
   "metadata": {},
   "outputs": [],
   "source": [
    "# Render the visualization\n",
    "# YOUR CODE HERE!"
   ]
  },
  {
   "cell_type": "code",
   "execution_count": null,
   "metadata": {},
   "outputs": [],
   "source": [
    "# List all Entities\n",
    "# YOUR CODE HERE!"
   ]
  },
  {
   "cell_type": "markdown",
   "metadata": {},
   "source": [
    "---"
   ]
  }
 ],
 "metadata": {
  "file_extension": ".py",
  "interpreter": {
   "hash": "35bec98dce1b3b28cda1817078865e650a01d463cb657688225eeec36a1d3f02"
  },
  "kernelspec": {
   "display_name": "Python 3.7.7 ('dev')",
   "language": "python",
   "name": "python3"
  },
  "language_info": {
   "codemirror_mode": {
    "name": "ipython",
    "version": 3
   },
   "file_extension": ".py",
   "mimetype": "text/x-python",
   "name": "python",
   "nbconvert_exporter": "python",
   "pygments_lexer": "ipython3",
   "version": "3.7.7"
  },
  "mimetype": "text/x-python",
  "name": "python",
  "npconvert_exporter": "python",
  "pygments_lexer": "ipython3",
  "version": 3
 },
 "nbformat": 4,
 "nbformat_minor": 4
}
